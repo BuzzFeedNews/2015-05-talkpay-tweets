{
 "cells": [
  {
   "cell_type": "markdown",
   "metadata": {},
   "source": [
    "# A *Very Rough* Analysis of #talkpay Tweets\n",
    "\n",
    "The data used in this analysis were fetched from Twitter using [twick](http://github.com/jsvine/twick), searching for \"#talkpay -filter:retweets\" (to exclude retweets). The data run through approximately noon Pacific Time on Saturday, May 2. A raw CSV of the tweets can be found [here](https://github.com/buzzfeednews/2015-05-talkpay-tweets/master/data/talkpay-tweets.csv).\n",
    "\n",
    "A few important caveats about the data and analysis:\n",
    "\n",
    "- What people tweet is *not* necessarily what they earn. In this analysis, we don't distinguish between what people say they make and what they say, for example, their bosses make.\n",
    "\n",
    "\n",
    "- Not everything that *looks like a salary* is one. In the analysis below, we're counting things that look like a salary, e.g., \"50k\", \"\\$20k\", \"\\$350,000\", \"\\$15,500.\" The analysis throws out \"401k\"s, on the assumption that it represents a retirement account, rather than a salary figure. But there may be other \"false positives\" — and plenty of \"false negatives,\" e.g., \"I make twenty grand\" — that we're missing.\n",
    "\n",
    "\n",
    "- The analysis of the distribution of salaries uses the *maximum* salary-looking figure from each tweet, based on the observation that many tweets narrated a progression of salaries over a series of jobs/positions.\n",
    "\n",
    "\n",
    "- The distribution analysis also ignores salaries reported in € and £. "
   ]
  },
  {
   "cell_type": "code",
   "execution_count": 1,
   "metadata": {
    "collapsed": true
   },
   "outputs": [],
   "source": [
    "%matplotlib inline\n",
    "import pandas as pd\n",
    "import re"
   ]
  },
  {
   "cell_type": "code",
   "execution_count": 2,
   "metadata": {
    "collapsed": true
   },
   "outputs": [],
   "source": [
    "salary_pat = re.compile(r\"[\\$£€][\\d\\.]{1,3}[,Kk]\\d{0,3}|\\d{1,3}k\")\n",
    "currency_pat = re.compile(r\"[\\$£€]\")\n",
    "link_pat = re.compile(r\"http[^ ]+\")"
   ]
  },
  {
   "cell_type": "code",
   "execution_count": 3,
   "metadata": {
    "collapsed": true
   },
   "outputs": [],
   "source": [
    "def is_likely_salary(text):\n",
    "    if \"401k\" in text.lower(): return False\n",
    "    if int(re.sub(r\"[^\\d]\", \"\", text)) == 0: return False\n",
    "    return True"
   ]
  },
  {
   "cell_type": "code",
   "execution_count": 4,
   "metadata": {
    "collapsed": true
   },
   "outputs": [],
   "source": [
    "def is_likely_usd(text):\n",
    "    if text[0] in [ \"£\", \"€\" ]: return False\n",
    "    return True"
   ]
  },
  {
   "cell_type": "code",
   "execution_count": 5,
   "metadata": {
    "collapsed": true
   },
   "outputs": [],
   "source": [
    "def extract_salary_text(text):\n",
    "    without_links = re.sub(link_pat, \"\", text)\n",
    "    found = list(filter(is_likely_salary, re.findall(salary_pat, without_links)))\n",
    "    if len(found): return found\n",
    "    else: return None"
   ]
  },
  {
   "cell_type": "code",
   "execution_count": 6,
   "metadata": {
    "collapsed": true
   },
   "outputs": [],
   "source": [
    "def intify_salary(string):\n",
    "    x = re.sub(currency_pat, \"\", string.lower())\n",
    "    if \"k\" in x:\n",
    "        return int(float(x[:-1]) * 1000)\n",
    "    else:\n",
    "        return int(x.replace(\",\", \"\"))"
   ]
  },
  {
   "cell_type": "code",
   "execution_count": 7,
   "metadata": {
    "collapsed": true
   },
   "outputs": [],
   "source": [
    "tweets = pd.read_csv(\"../data/talkpay.csv\", parse_dates=[\"created_at\"])"
   ]
  },
  {
   "cell_type": "code",
   "execution_count": 8,
   "metadata": {
    "collapsed": false
   },
   "outputs": [
    {
     "name": "stdout",
     "output_type": "stream",
     "text": [
      "Tweets collected: 9,604\n"
     ]
    }
   ],
   "source": [
    "print(\"Tweets collected: {0:,}\".format(len(tweets)))"
   ]
  },
  {
   "cell_type": "code",
   "execution_count": 9,
   "metadata": {
    "collapsed": false
   },
   "outputs": [],
   "source": [
    "tweets[\"all_salaries\"] = tweets[\"text\"].apply(extract_salary_text)\n",
    "tweets[\"usd_salaries\"] = tweets[\"all_salaries\"]\\\n",
    "    .apply(lambda x: list(filter(is_likely_usd, x)) if x else None)\n",
    "tweets[\"usd_salary_ints\"] = tweets[\"usd_salaries\"]\\\n",
    "    .apply(lambda x: list(map(intify_salary, x)) if x else None)"
   ]
  },
  {
   "cell_type": "code",
   "execution_count": 10,
   "metadata": {
    "collapsed": false
   },
   "outputs": [],
   "source": [
    "salary_tweets = tweets[\n",
    "    tweets[\"all_salaries\"].apply(lambda x: type(x) == list)\n",
    "].copy()"
   ]
  },
  {
   "cell_type": "code",
   "execution_count": 11,
   "metadata": {
    "collapsed": false
   },
   "outputs": [
    {
     "name": "stdout",
     "output_type": "stream",
     "text": [
      "Detected 1,951 tweets containing something salary-looking, published by 1,300 Twitter users.\n"
     ]
    }
   ],
   "source": [
    "print(\"\"\"\n",
    "Detected {0:,d} tweets containing something salary-looking, published by {1:,d} Twitter users.\n",
    "\"\"\".strip().format(len(salary_tweets), salary_tweets[\"screen_name\"].nunique()))"
   ]
  },
  {
   "cell_type": "code",
   "execution_count": 12,
   "metadata": {
    "collapsed": false
   },
   "outputs": [],
   "source": [
    "usd_salaries_max = salary_tweets[\"usd_salary_ints\"].dropna().apply(max)"
   ]
  },
  {
   "cell_type": "code",
   "execution_count": 13,
   "metadata": {
    "collapsed": false
   },
   "outputs": [],
   "source": [
    "def make_chart(binsize, limit, ytick):\n",
    "    bins = range(0, limit + binsize * 2, binsize)\n",
    "    thresholded = usd_salaries_max.apply(lambda x: min(limit, x))\n",
    "    ax = thresholded.hist(bins=bins, normed=True, \n",
    "        figsize=(14, 8), color=\"#60ba2b\", edgecolor=\"#ffffff\")\n",
    "    ax.set_xlim(0, limit + binsize)\n",
    "    ax.xaxis.grid(False)\n",
    "    ax.set_axisbelow(True)\n",
    "    max_prop = max(ax.get_yticks())\n",
    "    ax.set_yticks(pd.np.arange(0, max_prop, ytick / binsize))\n",
    "    ax.set_yticklabels([ \"{0:.0f}%\".format(y * binsize * 100) \n",
    "        for y in ax.get_yticks() ], fontsize=14)\n",
    "    ax.set_xticklabels([ \"${0:,.0f}{1}\".format(x, \"+\" if x == limit else \"\")\n",
    "        for x in ax.get_xticks() ], fontsize=14)\n",
    "    ax.xaxis.set_tick_params(width=1, direction=\"out\")\n",
    "    ax.yaxis.set_tick_params(width=1, direction=\"out\")\n",
    "    ax.xaxis.set_ticks_position(\"bottom\")\n",
    "    ax.yaxis.set_ticks_position(\"left\")\n",
    "    ax.set_title(\"#talkpay | Estimated Salary Distribution\", fontsize=28, y=1.05)\n",
    "    ax.figure.text(0.9, 0.03, 'Jeremy Singer-Vine / BuzzFeed News',\n",
    "        ha='right', color=\"#666666\", fontsize=12)\n",
    "    ax.figure.text(0.12, 0.03, 'Note: This is a *very* rough estimate. Substantial caveats apply.', \\\n",
    "        ha='left', color=\"#666666\", fontsize=12)\n",
    "    return ax"
   ]
  },
  {
   "cell_type": "code",
   "execution_count": 14,
   "metadata": {
    "collapsed": false
   },
   "outputs": [
    {
     "data": {
      "image/png": "[encoded data removed]",
      "text/plain": [
       "<matplotlib.figure.Figure at 0x105cf87b8>"
      ]
     },
     "metadata": {},
     "output_type": "display_data"
    }
   ],
   "source": [
    "ax = make_chart(25 * 1000, 300 * 1000, 0.05)"
   ]
  },
  {
   "cell_type": "markdown",
   "metadata": {},
   "source": [
    "---\n",
    "\n",
    "---\n",
    "\n",
    "---"
   ]
  }
 ],
 "metadata": {
  "kernelspec": {
   "display_name": "Python 3",
   "language": "python",
   "name": "python3"
  },
  "language_info": {
   "codemirror_mode": {
    "name": "ipython",
    "version": 3
   },
   "file_extension": ".py",
   "mimetype": "text/x-python",
   "name": "python",
   "nbconvert_exporter": "python",
   "pygments_lexer": "ipython3",
   "version": "3.4.3"
  }
 },
 "nbformat": 4,
 "nbformat_minor": 0
}
